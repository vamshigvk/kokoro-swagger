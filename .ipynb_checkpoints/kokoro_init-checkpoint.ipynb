{
 "cells": [
  {
   "cell_type": "code",
   "execution_count": 1,
   "id": "81fa43f8-5189-4079-8244-2f67c8907040",
   "metadata": {},
   "outputs": [],
   "source": [
    "# 1️⃣ Install kokoro\n",
    "# !pip install  kokoro>=0.8.2 soundfile"
   ]
  },
  {
   "cell_type": "code",
   "execution_count": 1,
   "id": "98f18c73-8fcf-468b-9caa-b1fc802e769a",
   "metadata": {},
   "outputs": [],
   "source": [
    "# 2️⃣ Install espeak, used for English OOD fallback and some non-English languages\n",
    "#!apt-get -qq -y install espeak-ng > /dev/null 2>&1\n",
    "# 🇪🇸 'e' => Spanish es\n",
    "# 🇫🇷 'f' => French fr-fr\n",
    "# 🇮🇳 'h' => Hindi hi\n",
    "# 🇮🇹 'i' => Italian it\n",
    "# 🇧🇷 'p' => Brazilian Portuguese pt-br"
   ]
  },
  {
   "cell_type": "markdown",
   "id": "7c280366-b892-4eff-bea9-73ee0f4a6d5e",
   "metadata": {},
   "source": [
    "import os\n",
    "os.environ[\"HF_HOME\"] = r\"C:\\Users\\Vamshi Krishna Gundu\\Desktop\\Vamshi\\LnD\\Data_Science\\Projects\\kokoro\\huggingface\""
   ]
  },
  {
   "cell_type": "code",
   "execution_count": 1,
   "id": "28adf62c-2e10-4e80-a870-ac0bf5ed12c4",
   "metadata": {},
   "outputs": [
    {
     "name": "stdout",
     "output_type": "stream",
     "text": [
      "HF_HOME is set to: C:\\Users\\Vamshi Krishna Gundu\\Desktop\\Vamshi\\LnD\\Data_Science\\Projects\\kokoro\\huggingface\n"
     ]
    }
   ],
   "source": [
    "import os\n",
    "\n",
    "# Get the current working directory\n",
    "current_dir = os.getcwd()\n",
    "\n",
    "# Define the cache folder inside the current directory\n",
    "hf_cache_dir = os.path.join(current_dir, \"huggingface\")\n",
    "\n",
    "# Set HF_HOME environment variable dynamically\n",
    "os.environ[\"HF_HOME\"] = hf_cache_dir\n",
    "\n",
    "print(f\"HF_HOME is set to: {os.environ['HF_HOME']}\")\n"
   ]
  },
  {
   "cell_type": "code",
   "execution_count": 2,
   "id": "fd3a04ab-2ade-48b8-b160-6b7a8c3f3393",
   "metadata": {},
   "outputs": [],
   "source": [
    "# 3️⃣ Initalize a pipeline\n",
    "from kokoro import KPipeline\n",
    "from IPython.display import display, Audio\n",
    "import soundfile as sf"
   ]
  },
  {
   "cell_type": "code",
   "execution_count": 3,
   "id": "c6941185-a95a-4093-a839-3265d4e13da0",
   "metadata": {
    "scrolled": true
   },
   "outputs": [
    {
     "name": "stderr",
     "output_type": "stream",
     "text": [
      "C:\\Users\\Vamshi Krishna Gundu\\AppData\\Local\\Programs\\Python\\Python311\\Lib\\site-packages\\torch\\nn\\modules\\rnn.py:82: UserWarning: dropout option adds dropout after all but last recurrent layer, so non-zero dropout expects num_layers greater than 1, but got dropout=0.2 and num_layers=1\n",
      "  warnings.warn(\"dropout option adds dropout after all but last \"\n",
      "C:\\Users\\Vamshi Krishna Gundu\\AppData\\Local\\Programs\\Python\\Python311\\Lib\\site-packages\\torch\\nn\\utils\\weight_norm.py:30: UserWarning: torch.nn.utils.weight_norm is deprecated in favor of torch.nn.utils.parametrizations.weight_norm.\n",
      "  warnings.warn(\"torch.nn.utils.weight_norm is deprecated in favor of torch.nn.utils.parametrizations.weight_norm.\")\n",
      "C:\\Users\\Vamshi Krishna Gundu\\AppData\\Local\\Programs\\Python\\Python311\\Lib\\site-packages\\torch\\_utils.py:831: UserWarning: TypedStorage is deprecated. It will be removed in the future and UntypedStorage will be the only storage class. This should only matter to you if you are using storages directly.  To access UntypedStorage directly, use tensor.untyped_storage() instead of tensor.storage()\n",
      "  return self.fget.__get__(instance, owner)()\n"
     ]
    }
   ],
   "source": [
    "# 🇺🇸 'a' => American English, 🇬🇧 'b' => British English\n",
    "# 🇯🇵 'j' => Japanese: pip install misaki[ja]\n",
    "# 🇨🇳 'z' => Mandarin Chinese: pip install misaki[zh]\n",
    "pipeline = KPipeline(lang_code='a', repo_id='hexgrad/Kokoro-82M') # <= make sure lang_code matches voice"
   ]
  },
  {
   "cell_type": "code",
   "execution_count": 4,
   "id": "0abd34db-ab17-4fc7-a9ca-10a331471b7f",
   "metadata": {},
   "outputs": [],
   "source": [
    "# This text is for demonstration purposes only, unseen during training\n",
    "text = '''to efficiently store duplicated files but your machine does not support them in C Users Vamshi Krishna Gundu .cache huggingface hub models--hexgrad--Kokoro-82M. Caching files will still work'''\n",
    "# text = '「もしおれがただ偶然、そしてこうしようというつもりでなくここに立っているのなら、ちょっとばかり絶望するところだな」と、そんなことが彼の頭に思い浮かんだ。'\n",
    "# text = '中國人民不信邪也不怕邪，不惹事也不怕事，任何外國不要指望我們會拿自己的核心利益做交易，不要指望我們會吞下損害我國主權、安全、發展利益的苦果！'\n",
    "# text = 'Los partidos políticos tradicionales compiten con los populismos y los movimientos asamblearios.'\n",
    "# text = 'Le dromadaire resplendissant déambulait tranquillement dans les méandres en mastiquant de petites feuilles vernissées.'\n",
    "# text = 'ट्रांसपोर्टरों की हड़ताल लगातार पांचवें दिन जारी, दिसंबर से इलेक्ट्रॉनिक टोल कलेक्शनल सिस्टम'\n",
    "# text = \"Allora cominciava l'insonnia, o un dormiveglia peggiore dell'insonnia, che talvolta assumeva i caratteri dell'incubo.\"\n",
    "# text = 'Elabora relatórios de acompanhamento cronológico para as diferentes unidades do Departamento que propõem contratos.'"
   ]
  },
  {
   "cell_type": "markdown",
   "id": "26f04291-ff7e-436a-8cb6-640e548570e7",
   "metadata": {},
   "source": [
    "### voices\n",
    "af_alloy\n",
    "af_aoede\n",
    "af_bella\n",
    "af_heart\n",
    "af_jessica\n",
    "af_kore\n",
    "af_nicole\n",
    "af_nova\n",
    "af_river\n",
    "af_sarah\n",
    "af_sky\n",
    "am_adam\n",
    "am_echo\n",
    "am_eric\n",
    "am_fenrir\n",
    "am_liam\n",
    "am_michael\n",
    "am_onyx\n",
    "am_puck\n",
    "am_santa"
   ]
  },
  {
   "cell_type": "code",
   "execution_count": 5,
   "id": "0e1759fd-899c-41b9-9bb5-27d33eb83cd7",
   "metadata": {},
   "outputs": [],
   "source": [
    "# 4️⃣ Generate, display, and save audio files in a loop.\n",
    "generator = pipeline(\n",
    "    text, voice='af_bella', # <= change voice here\n",
    "    speed=1, split_pattern=r'\\n+',\n",
    ")"
   ]
  },
  {
   "cell_type": "code",
   "execution_count": null,
   "id": "99c24686-91cd-41ca-a059-617feddcb177",
   "metadata": {},
   "outputs": [],
   "source": [
    "for i, (gs, ps, audio) in enumerate(generator):\n",
    "    print(i)  # i => index\n",
    "    print(gs) # gs => graphemes/text\n",
    "    print(ps) # ps => phonemes\n",
    "    display(Audio(data=audio, rate=24000, autoplay=i==0))\n",
    "    sf.write(f'{i}.wav', audio, 24000) # save each audio file"
   ]
  },
  {
   "cell_type": "markdown",
   "id": "eb4dc9f6-fc0c-4d7c-ac7c-58bf113b20af",
   "metadata": {},
   "source": [
    "💡 Customize pronunciation with Markdown link syntax and /slashes/ like [Kokoro](/kˈOkəɹO/)\n",
    "\n",
    "💬 To adjust intonation, try punctuation ;:,.!?—…\"()“” or stress ˈ and ˌ\n",
    "\n",
    "⬇️ Lower stress [1 level](-1) or [2 levels](-2)\n",
    "\n",
    "⬆️ Raise stress 1 level [or](+2) 2 levels (only works on less stressed, usually short words)"
   ]
  },
  {
   "cell_type": "code",
   "execution_count": null,
   "id": "55076984-8f76-40ed-947d-daa2226e49ae",
   "metadata": {},
   "outputs": [],
   "source": []
  }
 ],
 "metadata": {
  "kernelspec": {
   "display_name": "Python 3 (ipykernel)",
   "language": "python",
   "name": "python3"
  },
  "language_info": {
   "codemirror_mode": {
    "name": "ipython",
    "version": 3
   },
   "file_extension": ".py",
   "mimetype": "text/x-python",
   "name": "python",
   "nbconvert_exporter": "python",
   "pygments_lexer": "ipython3",
   "version": "3.11.2"
  }
 },
 "nbformat": 4,
 "nbformat_minor": 5
}
