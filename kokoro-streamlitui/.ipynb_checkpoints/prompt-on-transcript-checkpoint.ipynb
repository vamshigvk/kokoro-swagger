{
 "cells": [
  {
   "cell_type": "code",
   "execution_count": 7,
   "id": "fc86d473-54e6-46a6-b1ca-30cbfbc880b6",
   "metadata": {},
   "outputs": [],
   "source": [
    "from fastapi import FastAPI, HTTPException\n",
    "from pydantic import BaseModel\n",
    "import openai\n",
    "import os\n",
    "import requests"
   ]
  },
  {
   "cell_type": "code",
   "execution_count": 2,
   "id": "cac422d1-811d-400f-86fb-bafa561bc0a2",
   "metadata": {},
   "outputs": [],
   "source": [
    "openai.api_key = os.getenv(\"OPENAI_API_KEY\")"
   ]
  },
  {
   "cell_type": "code",
   "execution_count": 3,
   "id": "fc71a6ab-eaa4-48c0-a9d5-06734b2707e3",
   "metadata": {},
   "outputs": [],
   "source": [
    "class PodcastRequest(BaseModel):\n",
    "    script: list[tuple[str, str]]\n"
   ]
  },
  {
   "cell_type": "code",
   "execution_count": 49,
   "id": "81fbf6dd-f076-4346-9532-9d6049dd27a9",
   "metadata": {},
   "outputs": [],
   "source": [
    "script1 = \"\"\"Ending my third trip to India in the last year… reflecting on Systems of Record being the most fundamental substrates for observing (therefore measuring, therefore creating) reality.\n",
    "\n",
    "At a coarse-grained level, software applications. At a fine-grained level, biological applications. The moment humans established our discontinuous acceleration as the dominant species was directly correlated with our first written and recorded words (Cuneiform in ancient Sumeria, Mesopotamia, some 5,400 ~ years ago)\n",
    "\n",
    "More than $1 Trillion is now spent annually on application software (largely on-prem, also cloud). The architecture of how critical enterprise applications adapt to meet the needs of the businesses and teams of all sizes across industries has utterly failed to keep pace with the needs of data modeling, new customer form factors and the complex explosion / expressivity of new paradigms (streaming, AI, parallel computation, mobility, communication fragmentation and a lot more).\n",
    "\n",
    "This is similar to the degree that human biological evolution has failed to keep pace with the rate of technology improvement itself. Our human hardware has simply not adapted fast enough to be able to process what our computers can do with ease.\n",
    "\n",
    "More importantly than ever, next-generation software applications and systems of record need to be designed from physics first principles to be able to evolve and adapt at the level of technology improvement itself — instead, they are heavily calcified, more fragmented than ever and engineered through perverse incentives that maximize enslavement and rigidity, not flexibility and fluidity… let alone simplicity. \n",
    "\n",
    "For the first time perhaps ever, Vamsi Kurama and Vihar Kurama are taking these challenges head on — completely reimagining the way in which application software can be designed to adapt and evolve at the pace of change we are seeing in technology and data. It’s really incredible to witness and only a matter of time when billions of knowledge workers will be endowed with a new quantum leap of capabilities — that will make the current swath of application software look like the phase shift in biological evolution from single to multi-cellular life (Plane).\n",
    "\n",
    "Perhaps a bit grandiose, but I don’t think so. Such a privilege to have a front row seat and participate in its unfolding. \"\"\""
   ]
  },
  {
   "cell_type": "code",
   "execution_count": 50,
   "id": "a7043ee2-2970-4744-9703-29bec283061f",
   "metadata": {},
   "outputs": [],
   "source": [
    "script2 = \"\"\"This video is about a PhD student at UC Berkeley who was able to reproduce the \"aha moment\" of DeepSeek R10 on his own model. The \"aha moment\" is a phenomenon that was observed during the training of DeepSeek R10, a large language model. During this moment, the model learned to allocate more thinking time to a problem by re-evaluating its initial approach. This behavior is a testament to the model's growing reasoning abilities and shows how reinforcement learning can lead to unexpected and sophisticated outcomes.\n",
    "\n",
    "The student was able to reproduce the \"aha moment\" by using a technique called reinforcement learning. Reinforcement learning is a type of machine learning that allows a model to learn by trial and error. In this case, the model was given a reward for getting the answer to a question correct. This allowed the model to learn to think for itself and to improve its performance over time.\"\"\""
   ]
  },
  {
   "cell_type": "code",
   "execution_count": 71,
   "id": "4ad8c62e-ad2a-4420-9824-450c1af588b4",
   "metadata": {},
   "outputs": [],
   "source": [
    "script3 = \"\"\"Artificial intelligence (AI) refers to the capability of computational systems to perform tasks typically associated with human intelligence, such as learning, reasoning, problem-solving, perception, and decision-making. It is a field of research in computer science that develops and studies methods and software that enable machines to perceive their environment and use learning and intelligence to take actions that maximize their chances of achieving defined goals.[1] Such machines may be called AIs.\n",
    "\n",
    "High-profile applications of AI include advanced web search engines (e.g., Google Search); recommendation systems (used by YouTube, Amazon, and Netflix); virtual assistants (e.g., Google Assistant, Siri, and Alexa); autonomous vehicles (e.g., Waymo); generative and creative tools (e.g., ChatGPT and AI art); and superhuman play and analysis in strategy games (e.g., chess and Go). However, many AI applications are not perceived as AI: \"A lot of cutting edge AI has filtered into general applications, often without being called AI because once something becomes useful enough and common enough it's not labeled AI anymore.\"[2][3]\n",
    "\n",
    "Various subfields of AI research are centered around particular goals and the use of particular tools. The traditional goals of AI research include learning, reasoning, knowledge representation, planning, natural language processing, perception, and support for robotics.[a] General intelligence—the ability to complete any task performed by a human on an at least equal level—is among the field's long-term goals.[4] To reach these goals, AI researchers have adapted and integrated a wide range of techniques, including search and mathematical optimization, formal logic, artificial neural networks, and methods based on statistics, operations research, and economics.[b] AI also draws upon psychology, linguistics, philosophy, neuroscience, and other fields.\n",
    "\"\"\""
   ]
  },
  {
   "cell_type": "code",
   "execution_count": 72,
   "id": "90a75376-6077-4565-85d9-eee76c3224b2",
   "metadata": {},
   "outputs": [],
   "source": [
    "voice1 = \"af_sky\"\n",
    "voice2 = \"am_adam\"  "
   ]
  },
  {
   "cell_type": "code",
   "execution_count": 80,
   "id": "18efd41b-fd82-4a26-a9e6-6ac4c406ad35",
   "metadata": {},
   "outputs": [
    {
     "name": "stdout",
     "output_type": "stream",
     "text": [
      "[(\"Hey there, everyone! Welcome back to another episode of our podcast!\", \"af_sky\"),\n",
      " (\"Yeah, hi folks! It's great to have you with us today. We're diving into the fascinating world of artificial intelligence.\", \"am_adam\"),\n",
      " (\"Absolutely! AI is such a complex and rapidly evolving field, right? I mean, it's amazing how it can perform tasks that typically require human intelligence.\", \"af_sky\"),\n",
      " (\"Totally agree. From learning and reasoning to problem-solving and decision-making, AI is like... changing everything!\", \"am_adam\"),\n",
      " (\"Exactly! And we see AI in so many high-profile applications like Google Search or virtual assistants like Alexa and Siri.\", \"af_sky\"),\n",
      " (\"Oh, for sure. And let's not forget about autonomous vehicles like Waymo and creative tools like ChatGPT. AI is everywhere now, even when it's not labeled as such.\", \"am_adam\"),\n",
      " (\"Right! It's funny how once something becomes everyday useful, we stop really noticing it's AI.\", \"af_sky\"),\n",
      " (\"Yeah, and within AI research itself, there are so many subfields focusing on different goals like natural language processing and robotics.\", \"am_adam\"),\n",
      " (\"And they're using all sorts of techniques—from neural networks to optimization and even borrowing from psychology and neuroscience.\", \"af_sky\"),\n",
      " (\"Exactly, Emma. AI is like this big melting pot of different sciences and approaches trying to figure out general intelligence.\", \"am_adam\"),\n",
      " (\"For sure, Ryan. The future of AI seems limitless!\", \"af_sky\"),\n",
      " (\"Absolutely. So, stick around because we're just scratching the surface here!\", \"am_adam\"),\n",
      " (\"Stay tuned for more updates and exciting conversations!\", \"af_sky\")]\n"
     ]
    }
   ],
   "source": [
    "try:\n",
    "    # Generate conversation-style text\n",
    "    script_text = script3\n",
    "\n",
    "    prompt = f\"\"\"\n",
    "\n",
    "    TASK:\n",
    "    - Create a natural-sounding podcast conversation based on the following SCRIPT.\n",
    "    - Use human-like elements such as fillers, emotions, and natural flow.\n",
    "    - Ensure that \"Emma\" and \"Ryan\" sound distinct with voice names {voice1} and {voice2}.\n",
    "    \n",
    "    SCRIPT: {script_text}\n",
    "    \n",
    "    OUTPUT_FORMAT: [(\"Hello everyone! Welcome to our podcast!\", \"voice1\"),\n",
    "                (\"Today, we will discuss AI innovations.\", \"voice2\"),\n",
    "                (\"Stay tuned for more updates!\", \"voice1\")]\n",
    "\n",
    "    OUTPUT_GUIDELINES:\n",
    "    - Strictly print the output in OUTPUT_FORMAT\n",
    "    - No words or characters before or after OUTPUT_FORMAT\n",
    "    \n",
    "    \"\"\"\n",
    "\n",
    "    response = openai.ChatCompletion.create(\n",
    "        model=\"gpt-4o\",\n",
    "        messages=[{\"role\": \"system\", \"content\": \"You are a podcast host.\"},\n",
    "                  {\"role\": \"user\", \"content\": prompt}]\n",
    "    )\n",
    "\n",
    "    podcast_transcript = response[\"choices\"][0][\"message\"][\"content\"].strip()\n",
    "\n",
    "    print(podcast_transcript)\n",
    "\n",
    "except Exception as e:\n",
    "    raise HTTPException(status_code=500, detail=str(e))\n"
   ]
  },
  {
   "cell_type": "code",
   "execution_count": 69,
   "id": "d5b31ea3-b6e2-469c-949b-b2320afade60",
   "metadata": {
    "scrolled": true
   },
   "outputs": [
    {
     "data": {
      "text/plain": [
       "list"
      ]
     },
     "execution_count": 69,
     "metadata": {},
     "output_type": "execute_result"
    }
   ],
   "source": [
    "import ast\n",
    "\n",
    "data_list = ast.literal_eval(podcast_transcript)\n",
    "type(data_list)"
   ]
  },
  {
   "cell_type": "code",
   "execution_count": 70,
   "id": "761d98b1-4b61-4b2d-bb60-6727149b61bd",
   "metadata": {
    "scrolled": true
   },
   "outputs": [
    {
     "data": {
      "text/plain": [
       "[('Hey everyone! Welcome back to another episode of our podcast!', 'af_sky'),\n",
       " ('Hi folks! Ryan here, and I gotta say, today’s topic is absolutely fascinating.',\n",
       "  'am_adam'),\n",
       " ('You know, I just got back from my third trip to India this year, and I’ve been doing a lot of thinking…',\n",
       "  'af_sky'),\n",
       " ('Oh, really? What about, Emma?', 'am_adam'),\n",
       " (\"Well, I've been reflecting on how fundamental Systems of Record are in shaping our reality. They let us observe, measure, and even create it!\",\n",
       "  'af_sky'),\n",
       " ('Ah, that’s deep! So, what’s your take on these systems, then?', 'am_adam'),\n",
       " (\"It's interesting. On a broader level, it's about software applications. But if you zoom in, it's about biological applications too.\",\n",
       "  'af_sky'),\n",
       " ('That moment when humans catapulted into acceleration—wasn’t it linked with the first written words? Ancient cuneiform in Sumeria, right?',\n",
       "  'am_adam'),\n",
       " (\"Exactly, Ryan! That was around 5,400 years ago... and fast forward to now, there's over $1 Trillion spent annually on software.\",\n",
       "  'af_sky'),\n",
       " (\"Wow, that’s a lot. But I guess the adaptation hasn't quite kept up with the rapid pace of tech evolution, huh?\",\n",
       "  'am_adam'),\n",
       " (\"Yes, our systems are simply not flexible enough. It's like our own evolution hasn't kept up with technological advances.\",\n",
       "  'af_sky'),\n",
       " (\"Next-gen systems truly need to evolve with technology. But instead, they're seeing more fragmentation...\",\n",
       "  'am_adam'),\n",
       " (\"Precisely. It's calcified and driven by perverse incentives that favor rigidity over agility.\",\n",
       "  'af_sky'),\n",
       " ('I’ve heard about Vamsi and Vihar Kurama tackling these challenges. Any insights on their approach?',\n",
       "  'am_adam'),\n",
       " (\"They’re reimagining software design at its core, making it adaptable to technological changes. It's breathtakingly innovative.\",\n",
       "  'af_sky'),\n",
       " (\"Sounds like we're on the brink of a monumental transformation, akin to evolution leaps in biology!\",\n",
       "  'am_adam'),\n",
       " (\"Maybe it sounds grandiose, but I genuinely believe it's true. Honestly, we’re privileged to witness such transformative times.\",\n",
       "  'af_sky'),\n",
       " ('Thanks for sharing your thoughts, Emma! I’m sure our listeners are equally intrigued. Until next time!',\n",
       "  'am_adam')]"
      ]
     },
     "execution_count": 70,
     "metadata": {},
     "output_type": "execute_result"
    }
   ],
   "source": [
    "data_list"
   ]
  },
  {
   "cell_type": "code",
   "execution_count": null,
   "id": "253afab5-4380-4622-bd18-7ab657ed7955",
   "metadata": {},
   "outputs": [],
   "source": []
  }
 ],
 "metadata": {
  "kernelspec": {
   "display_name": "Python 3 (ipykernel)",
   "language": "python",
   "name": "python3"
  },
  "language_info": {
   "codemirror_mode": {
    "name": "ipython",
    "version": 3
   },
   "file_extension": ".py",
   "mimetype": "text/x-python",
   "name": "python",
   "nbconvert_exporter": "python",
   "pygments_lexer": "ipython3",
   "version": "3.11.2"
  }
 },
 "nbformat": 4,
 "nbformat_minor": 5
}
