{
 "cells": [
  {
   "cell_type": "code",
   "execution_count": 7,
   "id": "fc86d473-54e6-46a6-b1ca-30cbfbc880b6",
   "metadata": {},
   "outputs": [],
   "source": [
    "from fastapi import FastAPI, HTTPException\n",
    "from pydantic import BaseModel\n",
    "import openai\n",
    "import os\n",
    "import requests"
   ]
  },
  {
   "cell_type": "code",
   "execution_count": 2,
   "id": "cac422d1-811d-400f-86fb-bafa561bc0a2",
   "metadata": {},
   "outputs": [],
   "source": [
    "openai.api_key = os.getenv(\"OPENAI_API_KEY\")"
   ]
  },
  {
   "cell_type": "code",
   "execution_count": 3,
   "id": "fc71a6ab-eaa4-48c0-a9d5-06734b2707e3",
   "metadata": {},
   "outputs": [],
   "source": [
    "class PodcastRequest(BaseModel):\n",
    "    script: list[tuple[str, str]]\n"
   ]
  },
  {
   "cell_type": "code",
   "execution_count": 49,
   "id": "81fbf6dd-f076-4346-9532-9d6049dd27a9",
   "metadata": {},
   "outputs": [],
   "source": [
    "script1 = \"\"\"Ending my third trip to India in the last year… reflecting on Systems of Record being the most fundamental substrates for observing (therefore measuring, therefore creating) reality.\n",
    "\n",
    "At a coarse-grained level, software applications. At a fine-grained level, biological applications. The moment humans established our discontinuous acceleration as the dominant species was directly correlated with our first written and recorded words (Cuneiform in ancient Sumeria, Mesopotamia, some 5,400 ~ years ago)\n",
    "\n",
    "More than $1 Trillion is now spent annually on application software (largely on-prem, also cloud). The architecture of how critical enterprise applications adapt to meet the needs of the businesses and teams of all sizes across industries has utterly failed to keep pace with the needs of data modeling, new customer form factors and the complex explosion / expressivity of new paradigms (streaming, AI, parallel computation, mobility, communication fragmentation and a lot more).\n",
    "\n",
    "This is similar to the degree that human biological evolution has failed to keep pace with the rate of technology improvement itself. Our human hardware has simply not adapted fast enough to be able to process what our computers can do with ease.\n",
    "\n",
    "More importantly than ever, next-generation software applications and systems of record need to be designed from physics first principles to be able to evolve and adapt at the level of technology improvement itself — instead, they are heavily calcified, more fragmented than ever and engineered through perverse incentives that maximize enslavement and rigidity, not flexibility and fluidity… let alone simplicity. \n",
    "\n",
    "For the first time perhaps ever, Vamsi Kurama and Vihar Kurama are taking these challenges head on — completely reimagining the way in which application software can be designed to adapt and evolve at the pace of change we are seeing in technology and data. It’s really incredible to witness and only a matter of time when billions of knowledge workers will be endowed with a new quantum leap of capabilities — that will make the current swath of application software look like the phase shift in biological evolution from single to multi-cellular life (Plane).\n",
    "\n",
    "Perhaps a bit grandiose, but I don’t think so. Such a privilege to have a front row seat and participate in its unfolding. \"\"\""
   ]
  },
  {
   "cell_type": "code",
   "execution_count": 50,
   "id": "a7043ee2-2970-4744-9703-29bec283061f",
   "metadata": {},
   "outputs": [],
   "source": [
    "script2 = \"\"\"This video is about a PhD student at UC Berkeley who was able to reproduce the \"aha moment\" of DeepSeek R10 on his own model. The \"aha moment\" is a phenomenon that was observed during the training of DeepSeek R10, a large language model. During this moment, the model learned to allocate more thinking time to a problem by re-evaluating its initial approach. This behavior is a testament to the model's growing reasoning abilities and shows how reinforcement learning can lead to unexpected and sophisticated outcomes.\n",
    "\n",
    "The student was able to reproduce the \"aha moment\" by using a technique called reinforcement learning. Reinforcement learning is a type of machine learning that allows a model to learn by trial and error. In this case, the model was given a reward for getting the answer to a question correct. This allowed the model to learn to think for itself and to improve its performance over time.\"\"\""
   ]
  },
  {
   "cell_type": "code",
   "execution_count": 52,
   "id": "90a75376-6077-4565-85d9-eee76c3224b2",
   "metadata": {},
   "outputs": [],
   "source": [
    "voice1 = \"af_sky\"\n",
    "voice2 = \"am_adam\"  "
   ]
  },
  {
   "cell_type": "code",
   "execution_count": 57,
   "id": "18efd41b-fd82-4a26-a9e6-6ac4c406ad35",
   "metadata": {},
   "outputs": [
    {
     "name": "stdout",
     "output_type": "stream",
     "text": [
      "```python\n",
      "[\n",
      "(\"Hello everyone! Welcome to our podcast!\", \"af_sky\"),\n",
      "(\"I’m Emma, and today we’ve got an exciting topic to dive into — reflecting on my third trip to India recently, and contemplating how systems of record truly shape our reality.\", \"af_sky\"),\n",
      "(\"And I'm Ryan! Emma, I find that fascinating, especially when you think about how systems of record are the backbone for, well, pretty much everything we observe and measure in our world today.\", \"am_adam\"),\n",
      "(\"Exactly. It’s like at the coarser level, we’re dealing with software applications, but at the finer level, we're aligning it with biological applications, you know?\", \"af_sky\"),\n",
      "(\"Yeah, it's kind of surreal when you consider humans accelerating as a dominant species correlates to our earliest written records. I mean, Cuneiform in ancient Sumeria—they were onto something—5,400 years ago!\", \"am_adam\"),\n",
      "(\"Oh, totally! And let’s not forget the staggering amount—over $1 trillion annually—spent on application software. It’s mind-blowing.\", \"af_sky\"),\n",
      "(\"And despite this expense, the architecture hasn’t kept up, especially with the fast pace of data modeling needs and new paradigms emerging all the time.\", \"am_adam\"),\n",
      "(\"Yes, and it mirrors how, biologically, we haven’t evolved fast enough to keep up with tech advancements. Sometimes, it feels like our human 'hardware' is lagging behind what our computers achieve seamlessly.\", \"af_sky\"),\n",
      "(\"That’s so true! More than ever, software needs to evolve in tandem with tech improvements, yet they’re often rigid and fragmented.\", \"am_adam\"),\n",
      "(\"But what’s inspiring to see are innovators like Vamsi and Vihar Kurama tackling these issues. They're literally reimagining application software design.\", \"af_sky\"),\n",
      "(\"Absolutely, witnessing this innovation is like witnessing a phase shift akin to the evolution from single to multi-cellular life. It's mind-blowing!\", \"am_adam\"),\n",
      "(\"Right? It’s such a privilege to watch this unfold. For the millions of knowledge workers out there, this could mean a monumental leap in capabilities.\", \"af_sky\"),\n",
      "(\"It might sound grandiose, but it feels like we’re on the brink of something huge.\", \"am_adam\"),\n",
      "(\"Stay tuned for more updates on this revolutionary journey!\", \"af_sky\")\n",
      "]\n",
      "```\n"
     ]
    }
   ],
   "source": [
    "try:\n",
    "    # Generate conversation-style text\n",
    "    script_text = script1\n",
    "\n",
    "    prompt = f\"\"\"\n",
    "    Create a natural-sounding podcast conversation based on the following script.\n",
    "    Use human-like elements such as fillers, emotions, and natural flow.\n",
    "    Ensure that \"Emma\" and \"Ryan\" sound distinct with voice names {voice1} and {voice2}.\n",
    "    \n",
    "    {script_text}\n",
    "\n",
    "    Output Format: [(\"Hello everyone! Welcome to our podcast!\", voice1),\n",
    "                (\"Today, we will discuss AI innovations.\", voice2),\n",
    "                (\"Stay tuned for more updates!\", voice1)]\n",
    "                \n",
    "    Strictly print the podcast transcript, not a single other text apart from the above output format:\n",
    "    \"\"\"\n",
    "\n",
    "    response = openai.ChatCompletion.create(\n",
    "        model=\"gpt-4o\",\n",
    "        messages=[{\"role\": \"system\", \"content\": \"You are a podcast host.\"},\n",
    "                  {\"role\": \"user\", \"content\": prompt}]\n",
    "    )\n",
    "\n",
    "    podcast_transcript = response[\"choices\"][0][\"message\"][\"content\"].strip()\n",
    "\n",
    "    print(podcast_transcript)\n",
    "\n",
    "except Exception as e:\n",
    "    raise HTTPException(status_code=500, detail=str(e))\n"
   ]
  },
  {
   "cell_type": "code",
   "execution_count": 58,
   "id": "d5b31ea3-b6e2-469c-949b-b2320afade60",
   "metadata": {
    "scrolled": true
   },
   "outputs": [
    {
     "ename": "SyntaxError",
     "evalue": "invalid syntax (<unknown>, line 1)",
     "output_type": "error",
     "traceback": [
      "Traceback \u001b[1;36m(most recent call last)\u001b[0m:\n",
      "\u001b[0m  File \u001b[0;32m~\\AppData\\Local\\Programs\\Python\\Python311\\Lib\\site-packages\\IPython\\core\\interactiveshell.py:3505\u001b[0m in \u001b[0;35mrun_code\u001b[0m\n    exec(code_obj, self.user_global_ns, self.user_ns)\u001b[0m\n",
      "\u001b[0m  Cell \u001b[0;32mIn[58], line 3\u001b[0m\n    data_list = ast.literal_eval(podcast_transcript)\u001b[0m\n",
      "\u001b[0m  File \u001b[0;32m~\\AppData\\Local\\Programs\\Python\\Python311\\Lib\\ast.py:64\u001b[0m in \u001b[0;35mliteral_eval\u001b[0m\n    node_or_string = parse(node_or_string.lstrip(\" \\t\"), mode='eval')\u001b[0m\n",
      "\u001b[1;36m  File \u001b[1;32m~\\AppData\\Local\\Programs\\Python\\Python311\\Lib\\ast.py:50\u001b[1;36m in \u001b[1;35mparse\u001b[1;36m\n\u001b[1;33m    return compile(source, filename, mode, flags,\u001b[1;36m\n",
      "\u001b[1;36m  File \u001b[1;32m<unknown>:1\u001b[1;36m\u001b[0m\n\u001b[1;33m    ```python\u001b[0m\n\u001b[1;37m    ^\u001b[0m\n\u001b[1;31mSyntaxError\u001b[0m\u001b[1;31m:\u001b[0m invalid syntax\n"
     ]
    }
   ],
   "source": [
    "import ast\n",
    "\n",
    "data_list = ast.literal_eval(podcast_transcript)\n",
    "type(data_list)"
   ]
  },
  {
   "cell_type": "code",
   "execution_count": null,
   "id": "761d98b1-4b61-4b2d-bb60-6727149b61bd",
   "metadata": {
    "scrolled": true
   },
   "outputs": [],
   "source": [
    "data_list"
   ]
  },
  {
   "cell_type": "code",
   "execution_count": null,
   "id": "f88d2e2a-f50d-406e-ad8d-1f4b26713183",
   "metadata": {},
   "outputs": [],
   "source": [
    "for text, voice in podcast_transcript:\n",
    "    print(\"\\n\")\n",
    "    print(text)\n",
    "    print(\"\\n\")\n",
    "    print(voice)"
   ]
  },
  {
   "cell_type": "code",
   "execution_count": null,
   "id": "253afab5-4380-4622-bd18-7ab657ed7955",
   "metadata": {},
   "outputs": [],
   "source": []
  }
 ],
 "metadata": {
  "kernelspec": {
   "display_name": "Python 3 (ipykernel)",
   "language": "python",
   "name": "python3"
  },
  "language_info": {
   "codemirror_mode": {
    "name": "ipython",
    "version": 3
   },
   "file_extension": ".py",
   "mimetype": "text/x-python",
   "name": "python",
   "nbconvert_exporter": "python",
   "pygments_lexer": "ipython3",
   "version": "3.11.2"
  }
 },
 "nbformat": 4,
 "nbformat_minor": 5
}
